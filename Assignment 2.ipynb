{
 "cells": [
  {
   "cell_type": "markdown",
   "id": "68049ad5",
   "metadata": {},
   "source": [
    "### Assignment 2\n",
    "\n",
    "### Vishan Dilanka Costa Warnakulasuriya\n",
    "\n",
    "### 12/2/2024"
   ]
  },
  {
   "cell_type": "markdown",
   "id": "de42fd67",
   "metadata": {},
   "source": [
    "1. Define two variables and assign them values of 100 and 29. After this, make the interpreter sum up the two numbers and multiply their result by 3. Calculate the 2ndexponent of the previous numberand save it to a new variable.Make the program print the result in the following way:The resultof the calculation was:149769Make sure you use valid variable names and name your variables meaningfully.Make sure that output of yourprogram has indentation as shown in the above example."
   ]
  },
  {
   "cell_type": "code",
   "execution_count": 1,
   "id": "4f65c998",
   "metadata": {},
   "outputs": [
    {
     "name": "stdout",
     "output_type": "stream",
     "text": [
      "The result of the calculation was:\n",
      "149769\n"
     ]
    }
   ],
   "source": [
    "numberone = 100\n",
    "numbertwo = 29\n",
    "\n",
    "result = (numberone + numbertwo) * 3\n",
    "\n",
    "exponent_result = result ** 2\n",
    "\n",
    "print(\"The result of the calculation was:\")\n",
    "print(exponent_result)\n"
   ]
  },
  {
   "cell_type": "markdown",
   "id": "1315f6c5",
   "metadata": {},
   "source": [
    "2. Write a program thatcreatesa password by asking the user to input their name, age, year of birth. Save all in separate variables using the right type for each of them. Program shouldcreate the password in following way: takes last twodigits of year of birth, first 3 letters from name, and the 2ndpower of the age according to the example below:Name: JohnYear of birt: 1995Age: 26Password: 95Joh676"
   ]
  },
  {
   "cell_type": "code",
   "execution_count": 2,
   "id": "59f800a2",
   "metadata": {},
   "outputs": [
    {
     "name": "stdout",
     "output_type": "stream",
     "text": [
      "Enter your name: John\n",
      "Enter your year of birth: 1995\n",
      "Enter your age: 26\n",
      "Password: 95Joh676\n"
     ]
    }
   ],
   "source": [
    "name = input(\"Enter your name: \")\n",
    "year_of_birth = int(input(\"Enter your year of birth: \"))\n",
    "age = int(input(\"Enter your age: \"))\n",
    "\n",
    "year_digit = str(year_of_birth)[2:4]\n",
    "\n",
    "name_letters = name[0:3]\n",
    "\n",
    "age_power = age ** 2\n",
    "\n",
    "password = year_digit + name_letters + str(age_power)\n",
    "\n",
    "print(\"Password:\", password)\n"
   ]
  },
  {
   "cell_type": "code",
   "execution_count": null,
   "id": "8c7a9a4b",
   "metadata": {},
   "outputs": [],
   "source": []
  },
  {
   "cell_type": "markdown",
   "id": "6e204195",
   "metadata": {},
   "source": [
    "3. Write a program that asks for two numbers. If both numbersare even, the program prints \"Both numbers are even.\" If only one of the numbers is even, the program prints \"One of the numbers is even.\". Finally, if neither of the numbers is even, the program prints \"Both numbers are odd\".First number: 5Second number: 6One of the numbers is even"
   ]
  },
  {
   "cell_type": "code",
   "execution_count": 3,
   "id": "1e1273ba",
   "metadata": {},
   "outputs": [
    {
     "name": "stdout",
     "output_type": "stream",
     "text": [
      "First number: 5\n",
      "Second number: 6\n",
      "One of the numbers is even.\n"
     ]
    }
   ],
   "source": [
    "numberone = int(input(\"First number: \"))\n",
    "numbertwo = int(input(\"Second number: \"))\n",
    "\n",
    "if numberone % 2 == 0 and numberone % 2 == 0:\n",
    "    print(\"Both numbers are even.\")\n",
    "elif numbertwo % 2 == 0 or numbertwo % 2 == 0:\n",
    "    print(\"One of the numbers is even.\")\n",
    "else:\n",
    "    print(\"Both numbers are odd.\")\n"
   ]
  },
  {
   "cell_type": "code",
   "execution_count": null,
   "id": "9d5e07bd",
   "metadata": {},
   "outputs": [],
   "source": []
  },
  {
   "cell_type": "markdown",
   "id": "e68e7cd8",
   "metadata": {},
   "source": [
    "4. Create a program, which asks the user for a number, and calculates the sum of all positive numbers from 0 to the usergiven input.If the user gives the number 4, the program calculates the sum 0+1+2+3, if 7, the calculation is 0+1+2+3+4+5+6."
   ]
  },
  {
   "cell_type": "code",
   "execution_count": 4,
   "id": "a4dda8e5",
   "metadata": {},
   "outputs": [
    {
     "name": "stdout",
     "output_type": "stream",
     "text": [
      "Give an integer: 5\n",
      "The sum was 10\n"
     ]
    }
   ],
   "source": [
    "user_input = int(input(\"Give an integer: \"))\n",
    "\n",
    "sum_of_numbers = 0\n",
    "\n",
    "for i in range(user_input):\n",
    "    sum_of_numbers += i\n",
    "\n",
    "print(\"The sum was\", sum_of_numbers)\n"
   ]
  },
  {
   "cell_type": "markdown",
   "id": "be4abbe5",
   "metadata": {},
   "source": [
    "5. Create a program that can be used as a guessing game. The game is played by Dealerand Player. Dealergenerates a randominteger number between 0 and 10. Player has to guess it. The program should take input from Player as long as Player inputs same numberas Dealer’s input was. Player getsadviceto choose greater or smaller numbers in next choice.Finally,program has to also displaythe number of tries until the number is guessed.Program operates as follow:Player: 2Try a greater number.Player: 7Try a smaller number.Player: 5That’s right! Number of tries: 3"
   ]
  },
  {
   "cell_type": "code",
   "execution_count": 5,
   "id": "f006536b",
   "metadata": {},
   "outputs": [
    {
     "name": "stdout",
     "output_type": "stream",
     "text": [
      "Player: 1\n",
      "Try a greater number.\n",
      "Player: 2\n",
      "Try a greater number.\n",
      "Player: 3\n",
      "Try a greater number.\n",
      "Player: 4\n",
      "Try a greater number.\n",
      "Player: 5\n",
      "Try a greater number.\n",
      "Player: 6\n",
      "Try a greater number.\n",
      "Player: 7\n",
      "That’s right! Number of tries: 7\n"
     ]
    }
   ],
   "source": [
    "import random\n",
    "\n",
    "dealer_number = random.randint(0, 10)\n",
    "\n",
    "player_guess = None\n",
    "tries = 0\n",
    "\n",
    "while True:\n",
    "   \n",
    "    player_guess = int(input(\"Player: \"))\n",
    "    tries += 1\n",
    "    \n",
    "    if player_guess == dealer_number:\n",
    "        print(\"That’s right! Number of tries:\", tries)\n",
    "        break\n",
    " \n",
    "    elif player_guess < dealer_number:\n",
    "        print(\"Try a greater number.\")\n",
    "    else:\n",
    "        print(\"Try a smaller number.\")\n"
   ]
  },
  {
   "cell_type": "code",
   "execution_count": null,
   "id": "29c5c8a5",
   "metadata": {},
   "outputs": [],
   "source": []
  }
 ],
 "metadata": {
  "kernelspec": {
   "display_name": "Python 3 (ipykernel)",
   "language": "python",
   "name": "python3"
  },
  "language_info": {
   "codemirror_mode": {
    "name": "ipython",
    "version": 3
   },
   "file_extension": ".py",
   "mimetype": "text/x-python",
   "name": "python",
   "nbconvert_exporter": "python",
   "pygments_lexer": "ipython3",
   "version": "3.11.5"
  }
 },
 "nbformat": 4,
 "nbformat_minor": 5
}
